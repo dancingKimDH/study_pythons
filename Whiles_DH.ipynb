{
  "nbformat": 4,
  "nbformat_minor": 0,
  "metadata": {
    "colab": {
      "provenance": [],
      "authorship_tag": "ABX9TyOzHPp4QL7kCMTQLOQMyIJ1",
      "include_colab_link": true
    },
    "kernelspec": {
      "name": "python3",
      "display_name": "Python 3"
    },
    "language_info": {
      "name": "python"
    }
  },
  "cells": [
    {
      "cell_type": "markdown",
      "metadata": {
        "id": "view-in-github",
        "colab_type": "text"
      },
      "source": [
        "<a href=\"https://colab.research.google.com/github/dancingKimDH/toy_pythons/blob/main/Whiles_DH.ipynb\" target=\"_parent\"><img src=\"https://colab.research.google.com/assets/colab-badge.svg\" alt=\"Open In Colab\"/></a>"
      ]
    },
    {
      "cell_type": "code",
      "execution_count": 4,
      "metadata": {
        "id": "fxFbOclSjROs"
      },
      "outputs": [],
      "source": [
        "first = 1"
      ]
    },
    {
      "cell_type": "code",
      "source": [
        "while first < 4:\n",
        "\tprint(first)\n",
        "\tfirst = first + 1\n",
        "else:\n",
        "\tprint(\"in while\")"
      ],
      "metadata": {
        "id": "9aKpBejbjXiE"
      },
      "execution_count": null,
      "outputs": []
    },
    {
      "cell_type": "markdown",
      "source": [
        "#두 번째 입력을 합니다."
      ],
      "metadata": {
        "id": "0XwgN05CmZOV"
      }
    }
  ]
}