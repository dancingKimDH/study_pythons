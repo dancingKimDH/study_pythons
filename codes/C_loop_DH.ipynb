{
  "nbformat": 4,
  "nbformat_minor": 0,
  "metadata": {
    "colab": {
      "provenance": [],
      "authorship_tag": "ABX9TyPhPA8LFukeNbsYM+Lxpm67",
      "include_colab_link": true
    },
    "kernelspec": {
      "name": "python3",
      "display_name": "Python 3"
    },
    "language_info": {
      "name": "python"
    }
  },
  "cells": [
    {
      "cell_type": "markdown",
      "metadata": {
        "id": "view-in-github",
        "colab_type": "text"
      },
      "source": [
        "<a href=\"https://colab.research.google.com/github/dancingKimDH/toy_pythons/blob/main/C_loop_DH.ipynb\" target=\"_parent\"><img src=\"https://colab.research.google.com/assets/colab-badge.svg\" alt=\"Open In Colab\"/></a>"
      ]
    },
    {
      "cell_type": "code",
      "source": [
        "count = 1\n",
        "while count < 5:\n",
        "\tprint(count, \"\")\n",
        "\tcount += 1\n",
        "\tif count == 5:\n",
        "\t\tbreak"
      ],
      "metadata": {
        "id": "-QlxC9Hnv2LX"
      },
      "execution_count": null,
      "outputs": []
    }
  ]
}