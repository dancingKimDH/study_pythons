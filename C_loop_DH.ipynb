{
  "nbformat": 4,
  "nbformat_minor": 0,
  "metadata": {
    "colab": {
      "provenance": [],
      "authorship_tag": "ABX9TyMkPyAn76zi1zZfTowY3ToB",
      "include_colab_link": true
    },
    "kernelspec": {
      "name": "python3",
      "display_name": "Python 3"
    },
    "language_info": {
      "name": "python"
    }
  },
  "cells": [
    {
      "cell_type": "markdown",
      "metadata": {
        "id": "view-in-github",
        "colab_type": "text"
      },
      "source": [
        "<a href=\"https://colab.research.google.com/github/dancingKimDH/toy_pythons/blob/main/C_loop_DH.ipynb\" target=\"_parent\"><img src=\"https://colab.research.google.com/assets/colab-badge.svg\" alt=\"Open In Colab\"/></a>"
      ]
    },
    {
      "cell_type": "code",
      "execution_count": null,
      "metadata": {
        "id": "Hc9HO6nFvSgi"
      },
      "outputs": [],
      "source": [
        "count = 1\n",
        "while count < 5:\n",
        "    print(count, \"\")\n",
        "    count += 1\n",
        "else:\n",
        "    print(\"end\")"
      ]
    }
  ]
}